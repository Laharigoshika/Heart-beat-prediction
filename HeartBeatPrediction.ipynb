{
 "cells": [
  {
   "cell_type": "markdown",
   "metadata": {},
   "source": [
    "# Assignment 3"
   ]
  },
  {
   "cell_type": "code",
   "execution_count": null,
   "metadata": {},
   "outputs": [],
   "source": []
  },
  {
   "cell_type": "markdown",
   "metadata": {},
   "source": [
    "In this assignment, we will focus on healthcare. This data set is made available by MIT. It contains data about 9,026 heartbeat measurements. Each row represents a single measurement (captured on a timeline). There are a total of 80 data points (columns). This is a multiclass classification task: predict whether the measurement represents a normal heartbeat or other anomalies. "
   ]
  },
  {
   "cell_type": "markdown",
   "metadata": {},
   "source": [
    "## Description of Variables\n",
    "\n",
    "You will use the **hearbeat_cleaned.csv** data set for this assignment. Each row represents a single measurement. Columns labeled as T1 from T80 are the time steps on the timeline (there are 80 time steps, each time step has only one measurement). \n",
    "\n",
    "The last column is the target variable. It shows the label (category) of the measurement as follows:<br>\n",
    "0 = Normal<br>\n",
    "1 = Supraventricular premature beat<br>\n",
    "2 = Premature ventricular contraction<br>\n",
    "3 = Fusion of ventricular and normal beat<br>\n",
    "4 = Unclassifiable beat"
   ]
  },
  {
   "cell_type": "markdown",
   "metadata": {},
   "source": [
    "## Goal\n",
    "\n",
    "Use the data set **hearbeat_cleaned.csv** to predict the column called **Target**. The input variables are columns labeled as **T1 to T80**. "
   ]
  },
  {
   "cell_type": "markdown",
   "metadata": {},
   "source": [
    "## Submission:\n",
    "\n",
    "Please save and submit this Jupyter notebook file. The correctness of the code matters for your grade. **Readability and organization of your code is also important.** You may lose points for submitting unreadable/undecipherable code. Therefore, use markdown cells to create sections, and use comments where necessary.\n"
   ]
  },
  {
   "cell_type": "markdown",
   "metadata": {},
   "source": [
    "# Note:\n",
    "\n",
    "The data is cleaned up. There are no unqueal length sequences. And, there is no zero padding. So, you shouldn't use any `Masking` layer (like I mentioned in the lecture). "
   ]
  },
  {
   "cell_type": "markdown",
   "metadata": {},
   "source": [
    "# Read and Prepare the Data (1 points)"
   ]
  },
  {
   "cell_type": "code",
   "execution_count": 4,
   "metadata": {},
   "outputs": [],
   "source": [
    "import numpy as np\n",
    "import tensorflow as tf\n",
    "from tensorflow import keras\n",
    "import pandas as pd"
   ]
  },
  {
   "cell_type": "code",
   "execution_count": 3,
   "metadata": {},
   "outputs": [],
   "source": [
    "data = pd.read_csv(\"heartbeat_cleaned.csv\")"
   ]
  },
  {
   "cell_type": "code",
   "execution_count": 33,
   "metadata": {},
   "outputs": [
    {
     "data": {
      "text/plain": [
       "(7960, 81)"
      ]
     },
     "execution_count": 33,
     "metadata": {},
     "output_type": "execute_result"
    }
   ],
   "source": [
    "data.shape"
   ]
  },
  {
   "cell_type": "code",
   "execution_count": 34,
   "metadata": {},
   "outputs": [
    {
     "data": {
      "text/html": [
       "<div>\n",
       "<style scoped>\n",
       "    .dataframe tbody tr th:only-of-type {\n",
       "        vertical-align: middle;\n",
       "    }\n",
       "\n",
       "    .dataframe tbody tr th {\n",
       "        vertical-align: top;\n",
       "    }\n",
       "\n",
       "    .dataframe thead th {\n",
       "        text-align: right;\n",
       "    }\n",
       "</style>\n",
       "<table border=\"1\" class=\"dataframe\">\n",
       "  <thead>\n",
       "    <tr style=\"text-align: right;\">\n",
       "      <th></th>\n",
       "      <th>T1</th>\n",
       "      <th>T2</th>\n",
       "      <th>T3</th>\n",
       "      <th>T4</th>\n",
       "      <th>T5</th>\n",
       "      <th>T6</th>\n",
       "      <th>T7</th>\n",
       "      <th>T8</th>\n",
       "      <th>T9</th>\n",
       "      <th>T10</th>\n",
       "      <th>...</th>\n",
       "      <th>T72</th>\n",
       "      <th>T73</th>\n",
       "      <th>T74</th>\n",
       "      <th>T75</th>\n",
       "      <th>T76</th>\n",
       "      <th>T77</th>\n",
       "      <th>T78</th>\n",
       "      <th>T79</th>\n",
       "      <th>T80</th>\n",
       "      <th>Target</th>\n",
       "    </tr>\n",
       "  </thead>\n",
       "  <tbody>\n",
       "    <tr>\n",
       "      <th>0</th>\n",
       "      <td>0.987</td>\n",
       "      <td>0.892</td>\n",
       "      <td>0.461</td>\n",
       "      <td>0.1130</td>\n",
       "      <td>0.1490</td>\n",
       "      <td>0.1900</td>\n",
       "      <td>0.1650</td>\n",
       "      <td>0.1620</td>\n",
       "      <td>0.1470</td>\n",
       "      <td>0.1380</td>\n",
       "      <td>...</td>\n",
       "      <td>0.1970</td>\n",
       "      <td>0.1970</td>\n",
       "      <td>0.1960</td>\n",
       "      <td>0.2030</td>\n",
       "      <td>0.201</td>\n",
       "      <td>0.1990</td>\n",
       "      <td>0.2010</td>\n",
       "      <td>0.205</td>\n",
       "      <td>0.2080</td>\n",
       "      <td>0</td>\n",
       "    </tr>\n",
       "    <tr>\n",
       "      <th>1</th>\n",
       "      <td>1.000</td>\n",
       "      <td>0.918</td>\n",
       "      <td>0.621</td>\n",
       "      <td>0.1330</td>\n",
       "      <td>0.1050</td>\n",
       "      <td>0.1250</td>\n",
       "      <td>0.1170</td>\n",
       "      <td>0.0898</td>\n",
       "      <td>0.0703</td>\n",
       "      <td>0.0781</td>\n",
       "      <td>...</td>\n",
       "      <td>0.1950</td>\n",
       "      <td>0.1910</td>\n",
       "      <td>0.1520</td>\n",
       "      <td>0.1720</td>\n",
       "      <td>0.207</td>\n",
       "      <td>0.2110</td>\n",
       "      <td>0.2070</td>\n",
       "      <td>0.207</td>\n",
       "      <td>0.1720</td>\n",
       "      <td>0</td>\n",
       "    </tr>\n",
       "    <tr>\n",
       "      <th>2</th>\n",
       "      <td>1.000</td>\n",
       "      <td>0.751</td>\n",
       "      <td>0.143</td>\n",
       "      <td>0.1040</td>\n",
       "      <td>0.0961</td>\n",
       "      <td>0.0519</td>\n",
       "      <td>0.0442</td>\n",
       "      <td>0.0416</td>\n",
       "      <td>0.0364</td>\n",
       "      <td>0.0857</td>\n",
       "      <td>...</td>\n",
       "      <td>0.2260</td>\n",
       "      <td>0.2420</td>\n",
       "      <td>0.2440</td>\n",
       "      <td>0.2860</td>\n",
       "      <td>0.468</td>\n",
       "      <td>0.8160</td>\n",
       "      <td>0.9770</td>\n",
       "      <td>0.452</td>\n",
       "      <td>0.0519</td>\n",
       "      <td>0</td>\n",
       "    </tr>\n",
       "    <tr>\n",
       "      <th>3</th>\n",
       "      <td>1.000</td>\n",
       "      <td>0.740</td>\n",
       "      <td>0.235</td>\n",
       "      <td>0.0464</td>\n",
       "      <td>0.0722</td>\n",
       "      <td>0.0567</td>\n",
       "      <td>0.0103</td>\n",
       "      <td>0.0155</td>\n",
       "      <td>0.0284</td>\n",
       "      <td>0.0155</td>\n",
       "      <td>...</td>\n",
       "      <td>0.0851</td>\n",
       "      <td>0.0747</td>\n",
       "      <td>0.0515</td>\n",
       "      <td>0.0593</td>\n",
       "      <td>0.067</td>\n",
       "      <td>0.0361</td>\n",
       "      <td>0.1210</td>\n",
       "      <td>0.451</td>\n",
       "      <td>0.8690</td>\n",
       "      <td>0</td>\n",
       "    </tr>\n",
       "    <tr>\n",
       "      <th>4</th>\n",
       "      <td>1.000</td>\n",
       "      <td>0.833</td>\n",
       "      <td>0.309</td>\n",
       "      <td>0.0191</td>\n",
       "      <td>0.1010</td>\n",
       "      <td>0.1200</td>\n",
       "      <td>0.1040</td>\n",
       "      <td>0.0874</td>\n",
       "      <td>0.0765</td>\n",
       "      <td>0.0765</td>\n",
       "      <td>...</td>\n",
       "      <td>0.2050</td>\n",
       "      <td>0.4210</td>\n",
       "      <td>0.8030</td>\n",
       "      <td>0.9510</td>\n",
       "      <td>0.467</td>\n",
       "      <td>0.0000</td>\n",
       "      <td>0.0519</td>\n",
       "      <td>0.082</td>\n",
       "      <td>0.0628</td>\n",
       "      <td>0</td>\n",
       "    </tr>\n",
       "  </tbody>\n",
       "</table>\n",
       "<p>5 rows × 81 columns</p>\n",
       "</div>"
      ],
      "text/plain": [
       "      T1     T2     T3      T4      T5      T6      T7      T8      T9  \\\n",
       "0  0.987  0.892  0.461  0.1130  0.1490  0.1900  0.1650  0.1620  0.1470   \n",
       "1  1.000  0.918  0.621  0.1330  0.1050  0.1250  0.1170  0.0898  0.0703   \n",
       "2  1.000  0.751  0.143  0.1040  0.0961  0.0519  0.0442  0.0416  0.0364   \n",
       "3  1.000  0.740  0.235  0.0464  0.0722  0.0567  0.0103  0.0155  0.0284   \n",
       "4  1.000  0.833  0.309  0.0191  0.1010  0.1200  0.1040  0.0874  0.0765   \n",
       "\n",
       "      T10  ...     T72     T73     T74     T75    T76     T77     T78    T79  \\\n",
       "0  0.1380  ...  0.1970  0.1970  0.1960  0.2030  0.201  0.1990  0.2010  0.205   \n",
       "1  0.0781  ...  0.1950  0.1910  0.1520  0.1720  0.207  0.2110  0.2070  0.207   \n",
       "2  0.0857  ...  0.2260  0.2420  0.2440  0.2860  0.468  0.8160  0.9770  0.452   \n",
       "3  0.0155  ...  0.0851  0.0747  0.0515  0.0593  0.067  0.0361  0.1210  0.451   \n",
       "4  0.0765  ...  0.2050  0.4210  0.8030  0.9510  0.467  0.0000  0.0519  0.082   \n",
       "\n",
       "      T80  Target  \n",
       "0  0.2080       0  \n",
       "1  0.1720       0  \n",
       "2  0.0519       0  \n",
       "3  0.8690       0  \n",
       "4  0.0628       0  \n",
       "\n",
       "[5 rows x 81 columns]"
      ]
     },
     "execution_count": 34,
     "metadata": {},
     "output_type": "execute_result"
    }
   ],
   "source": [
    "data.head()"
   ]
  },
  {
   "cell_type": "code",
   "execution_count": 12,
   "metadata": {},
   "outputs": [],
   "source": [
    "y = data['Target']\n",
    "x = data.drop('Target', axis=1)"
   ]
  },
  {
   "cell_type": "code",
   "execution_count": 13,
   "metadata": {},
   "outputs": [],
   "source": [
    "from sklearn.model_selection import train_test_split\n",
    "\n",
    "train_x, test_x, train_y, test_y = train_test_split(x, y, test_size=0.3)"
   ]
  },
  {
   "cell_type": "code",
   "execution_count": 14,
   "metadata": {},
   "outputs": [],
   "source": [
    "#Target variables need to be an array with integer type\n",
    "train_y = np.array(train_y)\n",
    "test_y = np.array(test_y)\n",
    "\n",
    "train_y = train_y.astype(np.int32)\n",
    "test_y = test_y.astype(np.int32)\n"
   ]
  },
  {
   "cell_type": "code",
   "execution_count": 64,
   "metadata": {},
   "outputs": [
    {
     "data": {
      "text/plain": [
       "array([4, 0, 0, 2, 0, 1, 0, 4, 0, 2])"
      ]
     },
     "execution_count": 64,
     "metadata": {},
     "output_type": "execute_result"
    }
   ],
   "source": [
    "#Check the first 10 values of the train_y data set\n",
    "train_y[0:10]"
   ]
  },
  {
   "cell_type": "code",
   "execution_count": 65,
   "metadata": {},
   "outputs": [],
   "source": [
    "#Convert input variables to a 2-D array with float data type\n",
    "train_x= np.array(train_x)\n",
    "test_x= np.array(test_x)\n",
    "\n",
    "train_x = train_x.astype(np.float32)\n",
    "test_x = test_x.astype(np.float32)"
   ]
  },
  {
   "cell_type": "code",
   "execution_count": 62,
   "metadata": {},
   "outputs": [
    {
     "data": {
      "text/plain": [
       "array([[[0.743],\n",
       "        [0.628],\n",
       "        [0.517],\n",
       "        ...,\n",
       "        [0.509],\n",
       "        [0.524],\n",
       "        [0.512]],\n",
       "\n",
       "       [[0.966],\n",
       "        [0.884],\n",
       "        [0.48 ],\n",
       "        ...,\n",
       "        [0.212],\n",
       "        [0.222],\n",
       "        [0.232]],\n",
       "\n",
       "       [[1.   ],\n",
       "        [0.982],\n",
       "        [0.752],\n",
       "        ...,\n",
       "        [0.114],\n",
       "        [0.127],\n",
       "        [0.109]],\n",
       "\n",
       "       ...,\n",
       "\n",
       "       [[0.953],\n",
       "        [0.886],\n",
       "        [0.604],\n",
       "        ...,\n",
       "        [0.205],\n",
       "        [0.213],\n",
       "        [0.197]],\n",
       "\n",
       "       [[0.877],\n",
       "        [0.409],\n",
       "        [0.   ],\n",
       "        ...,\n",
       "        [0.199],\n",
       "        [0.184],\n",
       "        [0.213]],\n",
       "\n",
       "       [[0.969],\n",
       "        [0.932],\n",
       "        [0.873],\n",
       "        ...,\n",
       "        [0.403],\n",
       "        [0.409],\n",
       "        [0.417]]], dtype=float32)"
      ]
     },
     "execution_count": 62,
     "metadata": {},
     "output_type": "execute_result"
    }
   ],
   "source": [
    "train_x"
   ]
  },
  {
   "cell_type": "code",
   "execution_count": 66,
   "metadata": {},
   "outputs": [],
   "source": [
    "#Keras expects a different input format:\n",
    "#Data needs to have 3 dimensions\n",
    "\n",
    "train_x = np.reshape(train_x, (train_x.shape[0], train_x.shape[1], 1))\n",
    "test_x = np.reshape(test_x, (test_x.shape[0], test_x.shape[1], 1))\n"
   ]
  },
  {
   "cell_type": "code",
   "execution_count": 67,
   "metadata": {},
   "outputs": [
    {
     "data": {
      "text/plain": [
       "((5572, 80, 1), (5572,))"
      ]
     },
     "execution_count": 67,
     "metadata": {},
     "output_type": "execute_result"
    }
   ],
   "source": [
    "train_x.shape, train_y.shape"
   ]
  },
  {
   "cell_type": "code",
   "execution_count": 22,
   "metadata": {},
   "outputs": [
    {
     "data": {
      "text/plain": [
       "array([[[0.743],\n",
       "        [0.628],\n",
       "        [0.517],\n",
       "        ...,\n",
       "        [0.509],\n",
       "        [0.524],\n",
       "        [0.512]],\n",
       "\n",
       "       [[0.966],\n",
       "        [0.884],\n",
       "        [0.48 ],\n",
       "        ...,\n",
       "        [0.212],\n",
       "        [0.222],\n",
       "        [0.232]],\n",
       "\n",
       "       [[1.   ],\n",
       "        [0.982],\n",
       "        [0.752],\n",
       "        ...,\n",
       "        [0.114],\n",
       "        [0.127],\n",
       "        [0.109]],\n",
       "\n",
       "       ...,\n",
       "\n",
       "       [[0.953],\n",
       "        [0.886],\n",
       "        [0.604],\n",
       "        ...,\n",
       "        [0.205],\n",
       "        [0.213],\n",
       "        [0.197]],\n",
       "\n",
       "       [[0.877],\n",
       "        [0.409],\n",
       "        [0.   ],\n",
       "        ...,\n",
       "        [0.199],\n",
       "        [0.184],\n",
       "        [0.213]],\n",
       "\n",
       "       [[0.969],\n",
       "        [0.932],\n",
       "        [0.873],\n",
       "        ...,\n",
       "        [0.403],\n",
       "        [0.409],\n",
       "        [0.417]]], dtype=float32)"
      ]
     },
     "execution_count": 22,
     "metadata": {},
     "output_type": "execute_result"
    }
   ],
   "source": [
    "train_x"
   ]
  },
  {
   "cell_type": "markdown",
   "metadata": {},
   "source": [
    "# Find the baseline (0.5 point)"
   ]
  },
  {
   "cell_type": "code",
   "execution_count": 68,
   "metadata": {},
   "outputs": [
    {
     "data": {
      "text/plain": [
       "0    0.582035\n",
       "4    0.198995\n",
       "2    0.155402\n",
       "1    0.055905\n",
       "3    0.007663\n",
       "Name: Target, dtype: float64"
      ]
     },
     "execution_count": 68,
     "metadata": {},
     "output_type": "execute_result"
    }
   ],
   "source": [
    "data['Target'].value_counts()/len(data)"
   ]
  },
  {
   "cell_type": "code",
   "execution_count": null,
   "metadata": {},
   "outputs": [],
   "source": []
  },
  {
   "cell_type": "markdown",
   "metadata": {},
   "source": [
    "# Build a cross-sectional shallow model using Keras (with only one hidden layer) (2 points)"
   ]
  },
  {
   "cell_type": "code",
   "execution_count": 71,
   "metadata": {},
   "outputs": [],
   "source": [
    "model = keras.models.Sequential([\n",
    "    \n",
    "    keras.layers.Flatten(input_shape=[80, 1]),\n",
    "    keras.layers.Dense(1, activation='relu'),\n",
    "    keras.layers.Dense(5, activation='softmax')\n",
    "    \n",
    "])"
   ]
  },
  {
   "cell_type": "code",
   "execution_count": 74,
   "metadata": {},
   "outputs": [
    {
     "name": "stdout",
     "output_type": "stream",
     "text": [
      "Epoch 1/50\n",
      "175/175 [==============================] - 1s 2ms/step - loss: 1.1901 - accuracy: 0.5739 - val_loss: 1.1161 - val_accuracy: 0.6005\n",
      "Epoch 2/50\n",
      "175/175 [==============================] - 0s 2ms/step - loss: 1.0589 - accuracy: 0.6086 - val_loss: 0.8851 - val_accuracy: 0.7299\n",
      "Epoch 3/50\n",
      "175/175 [==============================] - 0s 1ms/step - loss: 0.8113 - accuracy: 0.7225 - val_loss: 0.7482 - val_accuracy: 0.7316\n",
      "Epoch 4/50\n",
      "175/175 [==============================] - 0s 1ms/step - loss: 0.7580 - accuracy: 0.7254 - val_loss: 0.7301 - val_accuracy: 0.7504\n",
      "Epoch 5/50\n",
      "175/175 [==============================] - 0s 1ms/step - loss: 0.7409 - accuracy: 0.7328 - val_loss: 0.7077 - val_accuracy: 0.7504\n",
      "Epoch 6/50\n",
      "175/175 [==============================] - 0s 1ms/step - loss: 0.7297 - accuracy: 0.7344 - val_loss: 0.7085 - val_accuracy: 0.7332\n",
      "Epoch 7/50\n",
      "175/175 [==============================] - 0s 1ms/step - loss: 0.7218 - accuracy: 0.7324 - val_loss: 0.6864 - val_accuracy: 0.7550\n",
      "Epoch 8/50\n",
      "175/175 [==============================] - 0s 1ms/step - loss: 0.7131 - accuracy: 0.7412 - val_loss: 0.7393 - val_accuracy: 0.7592\n",
      "Epoch 9/50\n",
      "175/175 [==============================] - 0s 1ms/step - loss: 0.7064 - accuracy: 0.7401 - val_loss: 0.7332 - val_accuracy: 0.7483\n",
      "Epoch 10/50\n",
      "175/175 [==============================] - 0s 1ms/step - loss: 0.7025 - accuracy: 0.7448 - val_loss: 0.7463 - val_accuracy: 0.7504\n",
      "Epoch 11/50\n",
      "175/175 [==============================] - 0s 1ms/step - loss: 0.6968 - accuracy: 0.7480 - val_loss: 0.6681 - val_accuracy: 0.7642\n",
      "Epoch 12/50\n",
      "175/175 [==============================] - 0s 1ms/step - loss: 0.6930 - accuracy: 0.7439 - val_loss: 0.6623 - val_accuracy: 0.7613\n",
      "Epoch 13/50\n",
      "175/175 [==============================] - 0s 1ms/step - loss: 0.6887 - accuracy: 0.7507 - val_loss: 0.6774 - val_accuracy: 0.7722\n",
      "Epoch 14/50\n",
      "175/175 [==============================] - 0s 1ms/step - loss: 0.6862 - accuracy: 0.7504 - val_loss: 0.6712 - val_accuracy: 0.7688\n",
      "Epoch 15/50\n",
      "175/175 [==============================] - 0s 1ms/step - loss: 0.6833 - accuracy: 0.7509 - val_loss: 0.7209 - val_accuracy: 0.7370\n",
      "Epoch 16/50\n",
      "175/175 [==============================] - 0s 1ms/step - loss: 0.6775 - accuracy: 0.7500 - val_loss: 0.6611 - val_accuracy: 0.7739\n",
      "Epoch 17/50\n",
      "175/175 [==============================] - 0s 1ms/step - loss: 0.6757 - accuracy: 0.7531 - val_loss: 0.6748 - val_accuracy: 0.7655\n",
      "Epoch 18/50\n",
      "175/175 [==============================] - 0s 1ms/step - loss: 0.6759 - accuracy: 0.7531 - val_loss: 0.6552 - val_accuracy: 0.7747\n",
      "Epoch 19/50\n",
      "175/175 [==============================] - 0s 1ms/step - loss: 0.6730 - accuracy: 0.7532 - val_loss: 0.6505 - val_accuracy: 0.7730\n",
      "Epoch 20/50\n",
      "175/175 [==============================] - 0s 1ms/step - loss: 0.6696 - accuracy: 0.7572 - val_loss: 0.7110 - val_accuracy: 0.7651\n",
      "Epoch 21/50\n",
      "175/175 [==============================] - 0s 1ms/step - loss: 0.6682 - accuracy: 0.7565 - val_loss: 0.6406 - val_accuracy: 0.7760\n",
      "Epoch 22/50\n",
      "175/175 [==============================] - 0s 1ms/step - loss: 0.6635 - accuracy: 0.7556 - val_loss: 0.6849 - val_accuracy: 0.7760\n",
      "Epoch 23/50\n",
      "175/175 [==============================] - 0s 1ms/step - loss: 0.6646 - accuracy: 0.7572 - val_loss: 0.7066 - val_accuracy: 0.7659\n",
      "Epoch 24/50\n",
      "175/175 [==============================] - 0s 1ms/step - loss: 0.6653 - accuracy: 0.7543 - val_loss: 0.6328 - val_accuracy: 0.7684\n",
      "Epoch 25/50\n",
      "175/175 [==============================] - 0s 1ms/step - loss: 0.6620 - accuracy: 0.7604 - val_loss: 0.6463 - val_accuracy: 0.7684\n",
      "Epoch 26/50\n",
      "175/175 [==============================] - 0s 1ms/step - loss: 0.6585 - accuracy: 0.7595 - val_loss: 0.7481 - val_accuracy: 0.7429\n",
      "Epoch 27/50\n",
      "175/175 [==============================] - 0s 1ms/step - loss: 0.6600 - accuracy: 0.7604 - val_loss: 0.6893 - val_accuracy: 0.7680\n",
      "Epoch 28/50\n",
      "175/175 [==============================] - 0s 2ms/step - loss: 0.6570 - accuracy: 0.7599 - val_loss: 0.7022 - val_accuracy: 0.7462\n",
      "Epoch 29/50\n",
      "175/175 [==============================] - 0s 2ms/step - loss: 0.6552 - accuracy: 0.7584 - val_loss: 0.6309 - val_accuracy: 0.7764\n",
      "Epoch 30/50\n",
      "175/175 [==============================] - 0s 1ms/step - loss: 0.6553 - accuracy: 0.7620 - val_loss: 0.6340 - val_accuracy: 0.7684\n",
      "Epoch 31/50\n",
      "175/175 [==============================] - 0s 1ms/step - loss: 0.6550 - accuracy: 0.7608 - val_loss: 0.6732 - val_accuracy: 0.7688\n",
      "Epoch 32/50\n",
      "175/175 [==============================] - 0s 1ms/step - loss: 0.6557 - accuracy: 0.7518 - val_loss: 0.6245 - val_accuracy: 0.7701\n",
      "Epoch 33/50\n",
      "175/175 [==============================] - 0s 1ms/step - loss: 0.6522 - accuracy: 0.7613 - val_loss: 0.6262 - val_accuracy: 0.7760\n",
      "Epoch 34/50\n",
      "175/175 [==============================] - 0s 1ms/step - loss: 0.6523 - accuracy: 0.7627 - val_loss: 0.6293 - val_accuracy: 0.7760\n",
      "Epoch 35/50\n",
      "175/175 [==============================] - 0s 1ms/step - loss: 0.6513 - accuracy: 0.7636 - val_loss: 0.6332 - val_accuracy: 0.7793\n",
      "Epoch 36/50\n",
      "175/175 [==============================] - 0s 1ms/step - loss: 0.6498 - accuracy: 0.7631 - val_loss: 0.6455 - val_accuracy: 0.7785\n",
      "Epoch 37/50\n",
      "175/175 [==============================] - 0s 1ms/step - loss: 0.6507 - accuracy: 0.7588 - val_loss: 0.7354 - val_accuracy: 0.7328\n",
      "Epoch 38/50\n",
      "175/175 [==============================] - 0s 1ms/step - loss: 0.6490 - accuracy: 0.7597 - val_loss: 0.6244 - val_accuracy: 0.7751\n",
      "Epoch 39/50\n",
      "175/175 [==============================] - 0s 1ms/step - loss: 0.6483 - accuracy: 0.7662 - val_loss: 0.6243 - val_accuracy: 0.7760\n",
      "Epoch 40/50\n",
      "175/175 [==============================] - 0s 1ms/step - loss: 0.6474 - accuracy: 0.7633 - val_loss: 0.6290 - val_accuracy: 0.7827\n",
      "Epoch 41/50\n",
      "175/175 [==============================] - 0s 1ms/step - loss: 0.6481 - accuracy: 0.7651 - val_loss: 0.6211 - val_accuracy: 0.7726\n",
      "Epoch 42/50\n",
      "175/175 [==============================] - 0s 1ms/step - loss: 0.6467 - accuracy: 0.7640 - val_loss: 0.6183 - val_accuracy: 0.7621\n",
      "Epoch 43/50\n",
      "175/175 [==============================] - 0s 1ms/step - loss: 0.6470 - accuracy: 0.7633 - val_loss: 0.6868 - val_accuracy: 0.7559\n",
      "Epoch 44/50\n",
      "175/175 [==============================] - 0s 1ms/step - loss: 0.6472 - accuracy: 0.7654 - val_loss: 0.6339 - val_accuracy: 0.7722\n",
      "Epoch 45/50\n",
      "175/175 [==============================] - 0s 1ms/step - loss: 0.6438 - accuracy: 0.7654 - val_loss: 0.6473 - val_accuracy: 0.7735\n",
      "Epoch 46/50\n",
      "175/175 [==============================] - 0s 1ms/step - loss: 0.6458 - accuracy: 0.7644 - val_loss: 0.6456 - val_accuracy: 0.7827\n",
      "Epoch 47/50\n",
      "175/175 [==============================] - 0s 1ms/step - loss: 0.6439 - accuracy: 0.7647 - val_loss: 0.6153 - val_accuracy: 0.7726\n",
      "Epoch 48/50\n",
      "175/175 [==============================] - 0s 1ms/step - loss: 0.6454 - accuracy: 0.7635 - val_loss: 0.6163 - val_accuracy: 0.7776\n",
      "Epoch 49/50\n",
      "175/175 [==============================] - 0s 1ms/step - loss: 0.6425 - accuracy: 0.7656 - val_loss: 0.6173 - val_accuracy: 0.7726\n",
      "Epoch 50/50\n",
      "175/175 [==============================] - 0s 1ms/step - loss: 0.6455 - accuracy: 0.7672 - val_loss: 0.6196 - val_accuracy: 0.7755\n"
     ]
    }
   ],
   "source": [
    "np.random.seed(89)\n",
    "tf.random.set_seed(89)\n",
    "\n",
    "optimizer = tf.keras.optimizers.Nadam(learning_rate=0.01)\n",
    "\n",
    "# If multiclass, use \"sparse_categorical_crossentropy\" as the loss function\n",
    "model.compile(loss=\"sparse_categorical_crossentropy\", optimizer=optimizer, metrics=['accuracy'])\n",
    "\n",
    "\n",
    "history = model.fit(train_x, train_y, epochs=50,\n",
    "                    validation_data=(test_x, test_y))"
   ]
  },
  {
   "cell_type": "code",
   "execution_count": 79,
   "metadata": {},
   "outputs": [
    {
     "data": {
      "text/plain": [
       "[0.6195716261863708, 0.7755444049835205]"
      ]
     },
     "execution_count": 79,
     "metadata": {},
     "output_type": "execute_result"
    }
   ],
   "source": [
    "# evaluate the model\n",
    "\n",
    "heart_rate = model.evaluate(test_x, test_y, verbose=5)\n",
    "\n",
    "heart_rate\n",
    "\n",
    "# In results, first is loss, second is accuracy"
   ]
  },
  {
   "cell_type": "code",
   "execution_count": 81,
   "metadata": {},
   "outputs": [
    {
     "name": "stdout",
     "output_type": "stream",
     "text": [
      "loss: 0.62\n",
      "accuracy: 77.55%\n"
     ]
    }
   ],
   "source": [
    "# extract the accuracy from model.evaluate\n",
    "\n",
    "print(\"%s: %.2f\" % (model.metrics_names[0], heart_rate[0]))\n",
    "print(\"%s: %.2f%%\" % (model.metrics_names[1], heart_rate[1]*100))\n"
   ]
  },
  {
   "cell_type": "markdown",
   "metadata": {},
   "source": [
    "# Build a cross-sectional deep model using Keras (with two or more hidden layers) (2 points)"
   ]
  },
  {
   "cell_type": "code",
   "execution_count": 163,
   "metadata": {},
   "outputs": [],
   "source": [
    "n_steps = 80\n",
    "n_inputs = 1\n",
    "\n",
    "\n",
    "model = keras.models.Sequential([\n",
    "    keras.layers.SimpleRNN(30, return_sequences=True, input_shape=[n_steps, n_inputs] ),\n",
    "    keras.layers.SimpleRNN(30, return_sequences=True),\n",
    "    keras.layers.SimpleRNN(30), \n",
    "    keras.layers.Dense(5, activation='softmax')\n",
    "])"
   ]
  },
  {
   "cell_type": "code",
   "execution_count": 164,
   "metadata": {},
   "outputs": [
    {
     "name": "stdout",
     "output_type": "stream",
     "text": [
      "Epoch 1/20\n",
      "175/175 [==============================] - 7s 28ms/step - loss: 1.1681 - accuracy: 0.5641 - val_loss: 1.1884 - val_accuracy: 0.6005\n",
      "Epoch 2/20\n",
      "175/175 [==============================] - 8s 44ms/step - loss: 1.1494 - accuracy: 0.5741 - val_loss: 1.1155 - val_accuracy: 0.6005\n",
      "Epoch 3/20\n",
      "175/175 [==============================] - 8s 46ms/step - loss: 1.1474 - accuracy: 0.5741 - val_loss: 1.1403 - val_accuracy: 0.6005\n",
      "Epoch 4/20\n",
      "175/175 [==============================] - 8s 47ms/step - loss: 1.1454 - accuracy: 0.5741 - val_loss: 1.1201 - val_accuracy: 0.6005\n",
      "Epoch 5/20\n",
      "175/175 [==============================] - 8s 45ms/step - loss: 1.1515 - accuracy: 0.5714 - val_loss: 1.1499 - val_accuracy: 0.6005\n",
      "Epoch 6/20\n",
      "175/175 [==============================] - 9s 49ms/step - loss: 1.1457 - accuracy: 0.5741 - val_loss: 1.5788 - val_accuracy: 0.1868\n",
      "Epoch 7/20\n",
      "175/175 [==============================] - 8s 47ms/step - loss: 1.1500 - accuracy: 0.5718 - val_loss: 1.2148 - val_accuracy: 0.6005\n",
      "Epoch 8/20\n",
      "175/175 [==============================] - 9s 51ms/step - loss: 1.1463 - accuracy: 0.5741 - val_loss: 1.3573 - val_accuracy: 0.1441\n",
      "Epoch 9/20\n",
      "175/175 [==============================] - 8s 46ms/step - loss: 1.1454 - accuracy: 0.5709 - val_loss: 1.1360 - val_accuracy: 0.6005\n",
      "Epoch 10/20\n",
      "175/175 [==============================] - 9s 50ms/step - loss: 1.1438 - accuracy: 0.5741 - val_loss: 1.1171 - val_accuracy: 0.6005\n",
      "Epoch 11/20\n",
      "175/175 [==============================] - 8s 47ms/step - loss: 1.1422 - accuracy: 0.5741 - val_loss: 1.1371 - val_accuracy: 0.6005\n",
      "Epoch 12/20\n",
      "175/175 [==============================] - 9s 50ms/step - loss: 1.1450 - accuracy: 0.5741 - val_loss: 1.1468 - val_accuracy: 0.6005\n",
      "Epoch 13/20\n",
      "175/175 [==============================] - 9s 49ms/step - loss: 1.1418 - accuracy: 0.5741 - val_loss: 1.2470 - val_accuracy: 0.1868\n",
      "Epoch 14/20\n",
      "175/175 [==============================] - 9s 51ms/step - loss: 1.1464 - accuracy: 0.5702 - val_loss: 1.1349 - val_accuracy: 0.6005\n",
      "Epoch 15/20\n",
      "175/175 [==============================] - 9s 49ms/step - loss: 1.1447 - accuracy: 0.5741 - val_loss: 1.1714 - val_accuracy: 0.6005\n",
      "Epoch 16/20\n",
      "175/175 [==============================] - 9s 54ms/step - loss: 1.1440 - accuracy: 0.5741 - val_loss: 1.1398 - val_accuracy: 0.6005\n",
      "Epoch 17/20\n",
      "175/175 [==============================] - 9s 51ms/step - loss: 1.1473 - accuracy: 0.5741 - val_loss: 1.1212 - val_accuracy: 0.6005\n",
      "Epoch 18/20\n",
      "175/175 [==============================] - 10s 55ms/step - loss: 1.1451 - accuracy: 0.5741 - val_loss: 1.1453 - val_accuracy: 0.6005\n",
      "Epoch 19/20\n",
      "175/175 [==============================] - 9s 54ms/step - loss: 1.1428 - accuracy: 0.5745 - val_loss: 1.2052 - val_accuracy: 0.6005\n",
      "Epoch 20/20\n",
      "175/175 [==============================] - 9s 53ms/step - loss: 1.1492 - accuracy: 0.5721 - val_loss: 1.2147 - val_accuracy: 0.6005\n"
     ]
    }
   ],
   "source": [
    "np.random.seed(42)\n",
    "tf.random.set_seed(42)\n",
    "\n",
    "optimizer = keras.optimizers.Nadam(learning_rate=0.01)\n",
    "\n",
    "model.compile(loss=\"sparse_categorical_crossentropy\", optimizer=optimizer, metrics=['accuracy'])\n",
    "\n",
    "history = model.fit(train_x, train_y, epochs=20,\n",
    "                   validation_data = (test_x, test_y))"
   ]
  },
  {
   "cell_type": "code",
   "execution_count": 165,
   "metadata": {},
   "outputs": [
    {
     "data": {
      "text/plain": [
       "[1.214653730392456, 0.6005024909973145]"
      ]
     },
     "execution_count": 165,
     "metadata": {},
     "output_type": "execute_result"
    }
   ],
   "source": [
    "\n",
    "more_heart_rate = model.evaluate(test_x, test_y, verbose=5)\n",
    "\n",
    "more_heart_rate\n"
   ]
  },
  {
   "cell_type": "code",
   "execution_count": 166,
   "metadata": {},
   "outputs": [
    {
     "name": "stdout",
     "output_type": "stream",
     "text": [
      "loss: 1.21\n",
      "accuracy: 60.05%\n"
     ]
    }
   ],
   "source": [
    "# extract the accuracy from model.evaluate\n",
    "\n",
    "print(\"%s: %.2f\" % (model.metrics_names[0], more_heart_rate[0]))\n",
    "print(\"%s: %.2f%%\" % (model.metrics_names[1], more_heart_rate[1]*100))\n"
   ]
  },
  {
   "cell_type": "markdown",
   "metadata": {},
   "source": [
    "# Build a sequential shallow LSTM Model (with only one LSTM layer) (2 points)"
   ]
  },
  {
   "cell_type": "code",
   "execution_count": 169,
   "metadata": {},
   "outputs": [],
   "source": [
    "n_steps = 80\n",
    "n_inputs = 1\n",
    "\n",
    "model = keras.models.Sequential([\n",
    "    \n",
    "    keras.layers.LSTM(15, input_shape=[n_steps, n_inputs]),\n",
    "    keras.layers.Dense(5, activation='softmax')])"
   ]
  },
  {
   "cell_type": "code",
   "execution_count": 170,
   "metadata": {},
   "outputs": [
    {
     "name": "stdout",
     "output_type": "stream",
     "text": [
      "Epoch 1/50\n",
      "175/175 [==============================] - 7s 27ms/step - loss: 1.1215 - accuracy: 0.5763 - val_loss: 1.0465 - val_accuracy: 0.6260\n",
      "Epoch 2/50\n",
      "175/175 [==============================] - 5s 26ms/step - loss: 1.0646 - accuracy: 0.5955 - val_loss: 1.0468 - val_accuracy: 0.6390\n",
      "Epoch 3/50\n",
      "175/175 [==============================] - 4s 24ms/step - loss: 1.0343 - accuracy: 0.6016 - val_loss: 1.0488 - val_accuracy: 0.6252\n",
      "Epoch 4/50\n",
      "175/175 [==============================] - 6s 33ms/step - loss: 1.0775 - accuracy: 0.5820 - val_loss: 1.0530 - val_accuracy: 0.5934\n",
      "Epoch 5/50\n",
      "175/175 [==============================] - 6s 35ms/step - loss: 1.0678 - accuracy: 0.5978 - val_loss: 1.0501 - val_accuracy: 0.6223\n",
      "Epoch 6/50\n",
      "175/175 [==============================] - 6s 35ms/step - loss: 1.0597 - accuracy: 0.6152 - val_loss: 1.0296 - val_accuracy: 0.6332\n",
      "Epoch 7/50\n",
      "175/175 [==============================] - 6s 33ms/step - loss: 1.0511 - accuracy: 0.6190 - val_loss: 1.0498 - val_accuracy: 0.6039\n",
      "Epoch 8/50\n",
      "175/175 [==============================] - 6s 34ms/step - loss: 0.8870 - accuracy: 0.6782 - val_loss: 0.7745 - val_accuracy: 0.7236\n",
      "Epoch 9/50\n",
      "175/175 [==============================] - 6s 37ms/step - loss: 0.7861 - accuracy: 0.7096 - val_loss: 0.7498 - val_accuracy: 0.7257\n",
      "Epoch 10/50\n",
      "175/175 [==============================] - 6s 36ms/step - loss: 0.7944 - accuracy: 0.7220 - val_loss: 0.7194 - val_accuracy: 0.7642\n",
      "Epoch 11/50\n",
      "175/175 [==============================] - 6s 35ms/step - loss: 0.7382 - accuracy: 0.7421 - val_loss: 0.6848 - val_accuracy: 0.7588\n",
      "Epoch 12/50\n",
      "175/175 [==============================] - 7s 38ms/step - loss: 0.7090 - accuracy: 0.7434 - val_loss: 0.6882 - val_accuracy: 0.7701\n",
      "Epoch 13/50\n",
      "175/175 [==============================] - 6s 36ms/step - loss: 0.6746 - accuracy: 0.7660 - val_loss: 0.6992 - val_accuracy: 0.7337\n",
      "Epoch 14/50\n",
      "175/175 [==============================] - 6s 34ms/step - loss: 0.6699 - accuracy: 0.7635 - val_loss: 0.6179 - val_accuracy: 0.7856\n",
      "Epoch 15/50\n",
      "175/175 [==============================] - 6s 33ms/step - loss: 0.6020 - accuracy: 0.8067 - val_loss: 0.5687 - val_accuracy: 0.8053\n",
      "Epoch 16/50\n",
      "175/175 [==============================] - 6s 32ms/step - loss: 0.6105 - accuracy: 0.7938 - val_loss: 0.5529 - val_accuracy: 0.8283\n",
      "Epoch 17/50\n",
      "175/175 [==============================] - 6s 36ms/step - loss: 0.5837 - accuracy: 0.8074 - val_loss: 0.6898 - val_accuracy: 0.7253\n",
      "Epoch 18/50\n",
      "175/175 [==============================] - 7s 38ms/step - loss: 0.6184 - accuracy: 0.7897 - val_loss: 0.5367 - val_accuracy: 0.8178\n",
      "Epoch 19/50\n",
      "175/175 [==============================] - 7s 41ms/step - loss: 0.5630 - accuracy: 0.8146 - val_loss: 0.6049 - val_accuracy: 0.8191\n",
      "Epoch 20/50\n",
      "175/175 [==============================] - 7s 39ms/step - loss: 0.5640 - accuracy: 0.8096 - val_loss: 0.5148 - val_accuracy: 0.8204\n",
      "Epoch 21/50\n",
      "175/175 [==============================] - 7s 40ms/step - loss: 0.5844 - accuracy: 0.8046 - val_loss: 0.5616 - val_accuracy: 0.8199\n",
      "Epoch 22/50\n",
      "175/175 [==============================] - 6s 36ms/step - loss: 0.5391 - accuracy: 0.8225 - val_loss: 0.5374 - val_accuracy: 0.8149\n",
      "Epoch 23/50\n",
      "175/175 [==============================] - 6s 36ms/step - loss: 0.5735 - accuracy: 0.8001 - val_loss: 0.5819 - val_accuracy: 0.8065\n",
      "Epoch 24/50\n",
      "175/175 [==============================] - 7s 39ms/step - loss: 0.5591 - accuracy: 0.8144 - val_loss: 0.5058 - val_accuracy: 0.8204\n",
      "Epoch 25/50\n",
      "175/175 [==============================] - 6s 36ms/step - loss: 0.5502 - accuracy: 0.8155 - val_loss: 0.5360 - val_accuracy: 0.8224\n",
      "Epoch 26/50\n",
      "175/175 [==============================] - 8s 46ms/step - loss: 0.6252 - accuracy: 0.8157 - val_loss: 0.6142 - val_accuracy: 0.8149\n",
      "Epoch 27/50\n",
      "175/175 [==============================] - 7s 37ms/step - loss: 0.6106 - accuracy: 0.8076 - val_loss: 0.4956 - val_accuracy: 0.8300\n",
      "Epoch 28/50\n",
      "175/175 [==============================] - 7s 38ms/step - loss: 0.7725 - accuracy: 0.7215 - val_loss: 0.7071 - val_accuracy: 0.7441\n",
      "Epoch 29/50\n",
      "175/175 [==============================] - 6s 37ms/step - loss: 0.6462 - accuracy: 0.7712 - val_loss: 0.6422 - val_accuracy: 0.7580\n",
      "Epoch 30/50\n",
      "175/175 [==============================] - 6s 37ms/step - loss: 0.5833 - accuracy: 0.8065 - val_loss: 0.5339 - val_accuracy: 0.8153\n",
      "Epoch 31/50\n",
      "175/175 [==============================] - 8s 46ms/step - loss: 0.5569 - accuracy: 0.8157 - val_loss: 0.5182 - val_accuracy: 0.8291\n",
      "Epoch 32/50\n",
      "175/175 [==============================] - 7s 39ms/step - loss: 0.5324 - accuracy: 0.8277 - val_loss: 0.5356 - val_accuracy: 0.8291\n",
      "Epoch 33/50\n",
      "175/175 [==============================] - 7s 39ms/step - loss: 0.5333 - accuracy: 0.8254 - val_loss: 0.5128 - val_accuracy: 0.8258\n",
      "Epoch 34/50\n",
      "175/175 [==============================] - 6s 36ms/step - loss: 0.5032 - accuracy: 0.8331 - val_loss: 0.4801 - val_accuracy: 0.8346\n",
      "Epoch 35/50\n",
      "175/175 [==============================] - 7s 38ms/step - loss: 0.4916 - accuracy: 0.8392 - val_loss: 0.5220 - val_accuracy: 0.8166\n",
      "Epoch 36/50\n",
      "175/175 [==============================] - 6s 37ms/step - loss: 0.4636 - accuracy: 0.8573 - val_loss: 0.4798 - val_accuracy: 0.8543\n",
      "Epoch 37/50\n",
      "175/175 [==============================] - 6s 35ms/step - loss: 0.4576 - accuracy: 0.8604 - val_loss: 0.4603 - val_accuracy: 0.8597\n",
      "Epoch 38/50\n",
      "175/175 [==============================] - 7s 38ms/step - loss: 0.4523 - accuracy: 0.8586 - val_loss: 1.0030 - val_accuracy: 0.6872\n",
      "Epoch 39/50\n",
      "175/175 [==============================] - 6s 36ms/step - loss: 0.6404 - accuracy: 0.7837 - val_loss: 0.5266 - val_accuracy: 0.8250\n",
      "Epoch 40/50\n",
      "175/175 [==============================] - 7s 39ms/step - loss: 0.4758 - accuracy: 0.8483 - val_loss: 0.4327 - val_accuracy: 0.8723\n",
      "Epoch 41/50\n",
      "175/175 [==============================] - 7s 42ms/step - loss: 0.4393 - accuracy: 0.8638 - val_loss: 0.3919 - val_accuracy: 0.8844\n",
      "Epoch 42/50\n",
      "175/175 [==============================] - 8s 46ms/step - loss: 0.4177 - accuracy: 0.8753 - val_loss: 0.5392 - val_accuracy: 0.8220\n",
      "Epoch 43/50\n",
      "175/175 [==============================] - 7s 43ms/step - loss: 0.4093 - accuracy: 0.8798 - val_loss: 0.5709 - val_accuracy: 0.8183\n",
      "Epoch 44/50\n",
      "175/175 [==============================] - 7s 38ms/step - loss: 0.3986 - accuracy: 0.8789 - val_loss: 0.3476 - val_accuracy: 0.8978\n",
      "Epoch 45/50\n",
      "175/175 [==============================] - 7s 40ms/step - loss: 0.3800 - accuracy: 0.8898 - val_loss: 0.4934 - val_accuracy: 0.8128\n",
      "Epoch 46/50\n",
      "175/175 [==============================] - 7s 37ms/step - loss: 0.3858 - accuracy: 0.8868 - val_loss: 0.3344 - val_accuracy: 0.9091\n",
      "Epoch 47/50\n",
      "175/175 [==============================] - 7s 40ms/step - loss: 0.3676 - accuracy: 0.8947 - val_loss: 0.4895 - val_accuracy: 0.8342\n",
      "Epoch 48/50\n",
      "175/175 [==============================] - 7s 38ms/step - loss: 0.3916 - accuracy: 0.8868 - val_loss: 0.3823 - val_accuracy: 0.8698\n",
      "Epoch 49/50\n",
      "175/175 [==============================] - 7s 38ms/step - loss: 0.3734 - accuracy: 0.8880 - val_loss: 0.3221 - val_accuracy: 0.9087\n",
      "Epoch 50/50\n",
      "175/175 [==============================] - 7s 38ms/step - loss: 0.3588 - accuracy: 0.8936 - val_loss: 0.3441 - val_accuracy: 0.9024\n"
     ]
    }
   ],
   "source": [
    "np.random.seed(56)\n",
    "tf.random.set_seed(56)\n",
    "\n",
    "optimizer = keras.optimizers.Nadam(learning_rate=0.01)\n",
    "\n",
    "model.compile(loss=\"sparse_categorical_crossentropy\", optimizer=optimizer, metrics=['accuracy'])\n",
    "\n",
    "history = model.fit(train_x, train_y, epochs=50,\n",
    "                   validation_data = (test_x, test_y))"
   ]
  },
  {
   "cell_type": "code",
   "execution_count": 171,
   "metadata": {},
   "outputs": [
    {
     "data": {
      "text/plain": [
       "[0.3440628945827484, 0.9024288058280945]"
      ]
     },
     "execution_count": 171,
     "metadata": {},
     "output_type": "execute_result"
    }
   ],
   "source": [
    "# evaluate the model\n",
    "\n",
    "LSTM_heart_rate = model.evaluate(test_x, test_y, verbose=0)\n",
    "\n",
    "LSTM_heart_rate\n",
    "\n",
    "# In results, first is loss, second is accuracy"
   ]
  },
  {
   "cell_type": "code",
   "execution_count": 172,
   "metadata": {},
   "outputs": [
    {
     "name": "stdout",
     "output_type": "stream",
     "text": [
      "loss: 0.34\n",
      "accuracy: 90.24%\n"
     ]
    }
   ],
   "source": [
    "# extract the accuracy from model.evaluate\n",
    "\n",
    "print(\"%s: %.2f\" % (model.metrics_names[0], LSTM_heart_rate[0]))\n",
    "print(\"%s: %.2f%%\" % (model.metrics_names[1], LSTM_heart_rate[1]*100))"
   ]
  },
  {
   "cell_type": "markdown",
   "metadata": {},
   "source": [
    "# Build a sequential deep LSTM Model (with only two LSTM layers) (2 points)"
   ]
  },
  {
   "cell_type": "code",
   "execution_count": 173,
   "metadata": {},
   "outputs": [],
   "source": [
    "n_steps = 80\n",
    "n_inputs = 1\n",
    "\n",
    "model = keras.models.Sequential([\n",
    "    \n",
    "\n",
    "    keras.layers.LSTM(10, return_sequences=True, input_shape=[n_steps, n_inputs]),\n",
    "    keras.layers.LSTM(10),\n",
    "    keras.layers.Dense(5, activation='softmax')\n",
    "])"
   ]
  },
  {
   "cell_type": "code",
   "execution_count": 174,
   "metadata": {},
   "outputs": [
    {
     "name": "stdout",
     "output_type": "stream",
     "text": [
      "Epoch 1/10\n",
      "175/175 [==============================] - 12s 48ms/step - loss: 1.1179 - accuracy: 0.5716 - val_loss: 1.1489 - val_accuracy: 0.5838\n",
      "Epoch 2/10\n",
      "175/175 [==============================] - 8s 46ms/step - loss: 1.0633 - accuracy: 0.5978 - val_loss: 1.1148 - val_accuracy: 0.6005\n",
      "Epoch 3/10\n",
      "175/175 [==============================] - 11s 60ms/step - loss: 1.0166 - accuracy: 0.5856 - val_loss: 0.8869 - val_accuracy: 0.6432\n",
      "Epoch 4/10\n",
      "175/175 [==============================] - 12s 67ms/step - loss: 0.8577 - accuracy: 0.6689 - val_loss: 0.7091 - val_accuracy: 0.7379\n",
      "Epoch 5/10\n",
      "175/175 [==============================] - 11s 64ms/step - loss: 0.7377 - accuracy: 0.7331 - val_loss: 0.8743 - val_accuracy: 0.6386\n",
      "Epoch 6/10\n",
      "175/175 [==============================] - 11s 65ms/step - loss: 0.6593 - accuracy: 0.7796 - val_loss: 0.6407 - val_accuracy: 0.7772\n",
      "Epoch 7/10\n",
      "175/175 [==============================] - 11s 60ms/step - loss: 0.6279 - accuracy: 0.7934 - val_loss: 0.9454 - val_accuracy: 0.6101\n",
      "Epoch 8/10\n",
      "175/175 [==============================] - 12s 66ms/step - loss: 0.6054 - accuracy: 0.8022 - val_loss: 0.7676 - val_accuracy: 0.7140\n",
      "Epoch 9/10\n",
      "175/175 [==============================] - 11s 63ms/step - loss: 0.5782 - accuracy: 0.8207 - val_loss: 0.7269 - val_accuracy: 0.7605\n",
      "Epoch 10/10\n",
      "175/175 [==============================] - 11s 61ms/step - loss: 0.5494 - accuracy: 0.8360 - val_loss: 0.6318 - val_accuracy: 0.7672\n"
     ]
    }
   ],
   "source": [
    "np.random.seed(42)\n",
    "tf.random.set_seed(42)\n",
    "\n",
    "optimizer = keras.optimizers.Nadam(learning_rate=0.01)\n",
    "\n",
    "model.compile(loss=\"sparse_categorical_crossentropy\", optimizer=optimizer, metrics=['accuracy'])\n",
    "\n",
    "history = model.fit(train_x, train_y, epochs=10,\n",
    "                   validation_data = (test_x, test_y))"
   ]
  },
  {
   "cell_type": "code",
   "execution_count": 175,
   "metadata": {},
   "outputs": [
    {
     "data": {
      "text/plain": [
       "[0.6317501068115234, 0.767169177532196]"
      ]
     },
     "execution_count": 175,
     "metadata": {},
     "output_type": "execute_result"
    }
   ],
   "source": [
    "# evaluate the model\n",
    "\n",
    "two_LSTM_heart_rate = model.evaluate(test_x, test_y, verbose=0)\n",
    "\n",
    "two_LSTM_heart_rate\n",
    "\n",
    "# In results, first is loss, second is accuracy"
   ]
  },
  {
   "cell_type": "code",
   "execution_count": 176,
   "metadata": {},
   "outputs": [
    {
     "name": "stdout",
     "output_type": "stream",
     "text": [
      "loss: 0.63\n",
      "accuracy: 76.72%\n"
     ]
    }
   ],
   "source": [
    "# extract the accuracy from model.evaluate\n",
    "\n",
    "print(\"%s: %.2f\" % (model.metrics_names[0], two_LSTM_heart_rate[0]))\n",
    "print(\"%s: %.2f%%\" % (model.metrics_names[1], two_LSTM_heart_rate[1]*100))"
   ]
  },
  {
   "cell_type": "markdown",
   "metadata": {},
   "source": [
    "# Build a sequential shallow GRU Model (with only one GRU layer) (2 points)"
   ]
  },
  {
   "cell_type": "code",
   "execution_count": 177,
   "metadata": {},
   "outputs": [],
   "source": [
    "n_steps = 80\n",
    "n_inputs = 1\n",
    "\n",
    "model = keras.models.Sequential([\n",
    "    keras.layers.GRU(25, input_shape=[n_steps, n_inputs]),\n",
    "    keras.layers.Dense(5, activation='softmax')\n",
    "])"
   ]
  },
  {
   "cell_type": "code",
   "execution_count": 178,
   "metadata": {},
   "outputs": [
    {
     "name": "stdout",
     "output_type": "stream",
     "text": [
      "Epoch 1/20\n",
      "175/175 [==============================] - 8s 32ms/step - loss: 1.1049 - accuracy: 0.5818 - val_loss: 1.0356 - val_accuracy: 0.6240\n",
      "Epoch 2/20\n",
      "175/175 [==============================] - 6s 32ms/step - loss: 0.8756 - accuracy: 0.6800 - val_loss: 0.6444 - val_accuracy: 0.7684\n",
      "Epoch 3/20\n",
      "175/175 [==============================] - 6s 35ms/step - loss: 0.5318 - accuracy: 0.8186 - val_loss: 0.4250 - val_accuracy: 0.8555\n",
      "Epoch 4/20\n",
      "175/175 [==============================] - 6s 36ms/step - loss: 0.4236 - accuracy: 0.8650 - val_loss: 0.5305 - val_accuracy: 0.8023\n",
      "Epoch 5/20\n",
      "175/175 [==============================] - 5s 28ms/step - loss: 0.3797 - accuracy: 0.8828 - val_loss: 0.3596 - val_accuracy: 0.8832\n",
      "Epoch 6/20\n",
      "175/175 [==============================] - 7s 41ms/step - loss: 0.3623 - accuracy: 0.8905 - val_loss: 0.3043 - val_accuracy: 0.9112\n",
      "Epoch 7/20\n",
      "175/175 [==============================] - 7s 42ms/step - loss: 0.3339 - accuracy: 0.8964 - val_loss: 0.3278 - val_accuracy: 0.9037\n",
      "Epoch 8/20\n",
      "175/175 [==============================] - 7s 40ms/step - loss: 0.3227 - accuracy: 0.9013 - val_loss: 0.3698 - val_accuracy: 0.8744\n",
      "Epoch 9/20\n",
      "175/175 [==============================] - 7s 41ms/step - loss: 0.3088 - accuracy: 0.9060 - val_loss: 0.3197 - val_accuracy: 0.9024\n",
      "Epoch 10/20\n",
      "175/175 [==============================] - 7s 42ms/step - loss: 0.3121 - accuracy: 0.8968 - val_loss: 0.2926 - val_accuracy: 0.9171\n",
      "Epoch 11/20\n",
      "175/175 [==============================] - 7s 43ms/step - loss: 0.2845 - accuracy: 0.9113 - val_loss: 0.2719 - val_accuracy: 0.9188\n",
      "Epoch 12/20\n",
      "175/175 [==============================] - 7s 42ms/step - loss: 0.2745 - accuracy: 0.9110 - val_loss: 0.2731 - val_accuracy: 0.9188\n",
      "Epoch 13/20\n",
      "175/175 [==============================] - 7s 42ms/step - loss: 0.2659 - accuracy: 0.9153 - val_loss: 0.4228 - val_accuracy: 0.8622\n",
      "Epoch 14/20\n",
      "175/175 [==============================] - 7s 40ms/step - loss: 0.2729 - accuracy: 0.9126 - val_loss: 0.4340 - val_accuracy: 0.8539\n",
      "Epoch 15/20\n",
      "175/175 [==============================] - 7s 42ms/step - loss: 0.2618 - accuracy: 0.9158 - val_loss: 0.3089 - val_accuracy: 0.8936\n",
      "Epoch 16/20\n",
      "175/175 [==============================] - 7s 41ms/step - loss: 0.2580 - accuracy: 0.9162 - val_loss: 0.2983 - val_accuracy: 0.9108\n",
      "Epoch 17/20\n",
      "175/175 [==============================] - 7s 42ms/step - loss: 0.2487 - accuracy: 0.9230 - val_loss: 0.2597 - val_accuracy: 0.9200\n",
      "Epoch 18/20\n",
      "175/175 [==============================] - 7s 40ms/step - loss: 0.2381 - accuracy: 0.9226 - val_loss: 0.2450 - val_accuracy: 0.9259\n",
      "Epoch 19/20\n",
      "175/175 [==============================] - 8s 47ms/step - loss: 0.2423 - accuracy: 0.9232 - val_loss: 0.2413 - val_accuracy: 0.9313\n",
      "Epoch 20/20\n",
      "175/175 [==============================] - 7s 42ms/step - loss: 0.2310 - accuracy: 0.9279 - val_loss: 0.2463 - val_accuracy: 0.9246\n"
     ]
    }
   ],
   "source": [
    "np.random.seed(42)\n",
    "tf.random.set_seed(42)\n",
    "\n",
    "optimizer = keras.optimizers.Nadam(learning_rate=0.01)\n",
    "\n",
    "model.compile(loss=\"sparse_categorical_crossentropy\", optimizer=optimizer, metrics=['accuracy'])\n",
    "\n",
    "history = model.fit(train_x, train_y, epochs=20,\n",
    "                   validation_data = (test_x, test_y))"
   ]
  },
  {
   "cell_type": "code",
   "execution_count": 179,
   "metadata": {},
   "outputs": [
    {
     "data": {
      "text/plain": [
       "[0.2462804615497589, 0.9246231317520142]"
      ]
     },
     "execution_count": 179,
     "metadata": {},
     "output_type": "execute_result"
    }
   ],
   "source": [
    "# evaluate the model\n",
    "\n",
    "gru_heart_beat = model.evaluate(test_x, test_y, verbose=0)\n",
    "\n",
    "gru_heart_beat \n",
    "\n",
    "# In results, first is loss, second is accuracy"
   ]
  },
  {
   "cell_type": "code",
   "execution_count": 180,
   "metadata": {},
   "outputs": [
    {
     "name": "stdout",
     "output_type": "stream",
     "text": [
      "loss: 0.25\n",
      "accuracy: 92.46%\n"
     ]
    }
   ],
   "source": [
    "# extract the accuracy from model.evaluate\n",
    "\n",
    "print(\"%s: %.2f\" % (model.metrics_names[0], gru_heart_beat[0]))\n",
    "print(\"%s: %.2f%%\" % (model.metrics_names[1], gru_heart_beat[1]*100))\n"
   ]
  },
  {
   "cell_type": "markdown",
   "metadata": {},
   "source": [
    "# Build a sequential deep GRU Model (with only two GRU layers) (2 points)"
   ]
  },
  {
   "cell_type": "code",
   "execution_count": 181,
   "metadata": {},
   "outputs": [],
   "source": [
    "n_steps = 80\n",
    "n_inputs = 1\n",
    "\n",
    "model = keras.models.Sequential([\n",
    "    keras.layers.GRU(25, return_sequences=True, input_shape=[n_steps, n_inputs]),\n",
    "    keras.layers.GRU(15),\n",
    "    keras.layers.Dense(5, activation='softmax')\n",
    "])"
   ]
  },
  {
   "cell_type": "code",
   "execution_count": 182,
   "metadata": {},
   "outputs": [
    {
     "name": "stdout",
     "output_type": "stream",
     "text": [
      "Epoch 1/20\n",
      "175/175 [==============================] - 16s 75ms/step - loss: 1.0812 - accuracy: 0.5865 - val_loss: 1.0442 - val_accuracy: 0.6260\n",
      "Epoch 2/20\n",
      "175/175 [==============================] - 11s 64ms/step - loss: 0.8829 - accuracy: 0.6723 - val_loss: 0.9599 - val_accuracy: 0.6449\n",
      "Epoch 3/20\n",
      "175/175 [==============================] - 14s 78ms/step - loss: 0.5605 - accuracy: 0.8184 - val_loss: 0.5307 - val_accuracy: 0.8099\n",
      "Epoch 4/20\n",
      "175/175 [==============================] - 15s 84ms/step - loss: 0.4633 - accuracy: 0.8548 - val_loss: 0.7529 - val_accuracy: 0.7714\n",
      "Epoch 5/20\n",
      "175/175 [==============================] - 15s 85ms/step - loss: 0.4605 - accuracy: 0.8518 - val_loss: 0.4042 - val_accuracy: 0.8677\n",
      "Epoch 6/20\n",
      "175/175 [==============================] - 15s 84ms/step - loss: 0.3572 - accuracy: 0.8844 - val_loss: 0.3353 - val_accuracy: 0.9003\n",
      "Epoch 7/20\n",
      "175/175 [==============================] - 15s 83ms/step - loss: 0.3277 - accuracy: 0.8968 - val_loss: 0.5040 - val_accuracy: 0.8358\n",
      "Epoch 8/20\n",
      "175/175 [==============================] - 15s 83ms/step - loss: 0.3245 - accuracy: 0.8911 - val_loss: 0.3229 - val_accuracy: 0.9037\n",
      "Epoch 9/20\n",
      "175/175 [==============================] - 14s 83ms/step - loss: 0.2905 - accuracy: 0.9085 - val_loss: 0.3132 - val_accuracy: 0.8991\n",
      "Epoch 10/20\n",
      "175/175 [==============================] - 14s 82ms/step - loss: 0.2755 - accuracy: 0.9126 - val_loss: 0.2995 - val_accuracy: 0.9112\n",
      "Epoch 11/20\n",
      "175/175 [==============================] - 14s 83ms/step - loss: 0.2913 - accuracy: 0.9110 - val_loss: 0.7130 - val_accuracy: 0.7584\n",
      "Epoch 12/20\n",
      "175/175 [==============================] - 15s 84ms/step - loss: 0.2888 - accuracy: 0.9076 - val_loss: 0.3016 - val_accuracy: 0.9129\n",
      "Epoch 13/20\n",
      "175/175 [==============================] - 15s 84ms/step - loss: 0.2468 - accuracy: 0.9209 - val_loss: 0.2773 - val_accuracy: 0.9150\n",
      "Epoch 14/20\n",
      "175/175 [==============================] - 14s 82ms/step - loss: 0.2316 - accuracy: 0.9279 - val_loss: 0.2549 - val_accuracy: 0.9255\n",
      "Epoch 15/20\n",
      "175/175 [==============================] - 15s 87ms/step - loss: 0.2292 - accuracy: 0.9264 - val_loss: 0.2323 - val_accuracy: 0.9330\n",
      "Epoch 16/20\n",
      "175/175 [==============================] - 15s 88ms/step - loss: 0.2090 - accuracy: 0.9345 - val_loss: 0.2419 - val_accuracy: 0.9338\n",
      "Epoch 17/20\n",
      "175/175 [==============================] - 14s 82ms/step - loss: 0.2095 - accuracy: 0.9322 - val_loss: 0.2508 - val_accuracy: 0.9280\n",
      "Epoch 18/20\n",
      "175/175 [==============================] - 15s 84ms/step - loss: 0.2043 - accuracy: 0.9349 - val_loss: 0.2570 - val_accuracy: 0.9238\n",
      "Epoch 19/20\n",
      "175/175 [==============================] - 15s 83ms/step - loss: 0.2129 - accuracy: 0.9350 - val_loss: 0.2829 - val_accuracy: 0.9142\n",
      "Epoch 20/20\n",
      "175/175 [==============================] - 15s 85ms/step - loss: 0.1977 - accuracy: 0.9392 - val_loss: 0.2367 - val_accuracy: 0.9280\n"
     ]
    }
   ],
   "source": [
    "np.random.seed(42)\n",
    "tf.random.set_seed(42)\n",
    "\n",
    "optimizer = keras.optimizers.Nadam(learning_rate=0.01)\n",
    "\n",
    "model.compile(loss=\"sparse_categorical_crossentropy\", optimizer=optimizer, metrics=['accuracy'])\n",
    "\n",
    "history = model.fit(train_x, train_y, epochs=20,\n",
    "                   validation_data = (test_x, test_y))"
   ]
  },
  {
   "cell_type": "code",
   "execution_count": 183,
   "metadata": {},
   "outputs": [
    {
     "data": {
      "text/plain": [
       "[0.23673522472381592, 0.927973210811615]"
      ]
     },
     "execution_count": 183,
     "metadata": {},
     "output_type": "execute_result"
    }
   ],
   "source": [
    "# evaluate the model\n",
    "\n",
    "GRU_Model = model.evaluate(test_x, test_y, verbose=0)\n",
    "\n",
    "GRU_Model\n",
    "\n",
    "# In results, first is loss, second is accuracy"
   ]
  },
  {
   "cell_type": "code",
   "execution_count": 152,
   "metadata": {},
   "outputs": [
    {
     "name": "stdout",
     "output_type": "stream",
     "text": [
      "loss: 0.49\n",
      "accuracy: 84.88%\n"
     ]
    }
   ],
   "source": [
    "# extract the accuracy from model.evaluate\n",
    "\n",
    "print(\"%s: %.2f\" % (model.metrics_names[0], GRU_Model[0]))\n",
    "print(\"%s: %.2f%%\" % (model.metrics_names[1], GRU_Model[1]*100))\n"
   ]
  },
  {
   "cell_type": "markdown",
   "metadata": {},
   "source": [
    "# Discussion"
   ]
  },
  {
   "cell_type": "markdown",
   "metadata": {},
   "source": [
    "## List the test values of each model you built (0.5 points)"
   ]
  },
  {
   "cell_type": "raw",
   "metadata": {},
   "source": [
    "Cross sectional shallow model-> loss-0.62, accuracy-77.55%\n",
    "Cross sectional Deep model ->loss-1,21,accuracy-60.15%\n",
    "Sequential shallow LSTM Model->loss-0.344,accuracy-90.24%\n",
    "Sequential deep LSTM Model-> loss-0.6317,accuracy-76.71%\n",
    "Sequential shallow GRU Model->loss-0.2462,accuracy-92.46%\n",
    "Sequential deep GRU Model-> loss-0.2367, accuracy-92.79%\n"
   ]
  },
  {
   "cell_type": "code",
   "execution_count": null,
   "metadata": {},
   "outputs": [],
   "source": [
    "Though there is not much difference between the Sequential shallow GRU Model and Sequential deep GRU Model, comaparitively, the Sequential deep GRU Model has slightly less loss and more accuracy. "
   ]
  },
  {
   "cell_type": "markdown",
   "metadata": {},
   "source": [
    "## Which model performs the best and why? (0.5 points) \n",
    "## How does it compare to baseline? (0.5 points)\n",
    "\n"
   ]
  },
  {
   "cell_type": "code",
   "execution_count": null,
   "metadata": {},
   "outputs": [],
   "source": [
    "When compared with the baseline accuracy (58.02), the sequential deep GRU model has approximately 35% more accuracy."
   ]
  },
  {
   "cell_type": "raw",
   "metadata": {},
   "source": []
  }
 ],
 "metadata": {
  "kernelspec": {
   "display_name": "Python 3 (ipykernel)",
   "language": "python",
   "name": "python3"
  },
  "language_info": {
   "codemirror_mode": {
    "name": "ipython",
    "version": 3
   },
   "file_extension": ".py",
   "mimetype": "text/x-python",
   "name": "python",
   "nbconvert_exporter": "python",
   "pygments_lexer": "ipython3",
   "version": "3.9.13"
  },
  "toc": {
   "base_numbering": 1,
   "nav_menu": {},
   "number_sections": false,
   "sideBar": true,
   "skip_h1_title": true,
   "title_cell": "Table of Contents",
   "title_sidebar": "Contents",
   "toc_cell": false,
   "toc_position": {},
   "toc_section_display": true,
   "toc_window_display": false
  }
 },
 "nbformat": 4,
 "nbformat_minor": 2
}
